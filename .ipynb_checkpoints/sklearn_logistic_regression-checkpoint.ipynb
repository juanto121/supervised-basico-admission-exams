{
 "cells": [
  {
   "cell_type": "code",
   "execution_count": 3,
   "metadata": {},
   "outputs": [
    {
     "name": "stdout",
     "output_type": "stream",
     "text": [
      "         ex1        ex2  ac\n",
      "0  34.623660  78.024693   0\n",
      "1  30.286711  43.894998   0\n",
      "2  35.847409  72.902198   0\n",
      "3  60.182599  86.308552   1\n",
      "4  79.032736  75.344376   1\n",
      "5  45.083277  56.316372   0\n",
      "6  61.106665  96.511426   1\n",
      "7  75.024746  46.554014   1\n",
      "8  76.098787  87.420570   1\n",
      "9  84.432820  43.533393   1\n"
     ]
    }
   ],
   "source": [
    "import numpy as np\n",
    "import pandas as pd\n",
    "from sklearn import linear_model\n",
    "\n",
    "\n",
    "training_samples = pd.read_csv(\"train-set.csv\", names=[\"ex1\",\"ex2\",\"ac\"])\n",
    "print(training_samples.head(10))"
   ]
  },
  {
   "cell_type": "code",
   "execution_count": 52,
   "metadata": {},
   "outputs": [
    {
     "name": "stdout",
     "output_type": "stream",
     "text": [
      "          x1         x2        x1_x2         x1_2         x2_2\n",
      "0  34.623660  78.024693  2701.500406  1198.797806  6087.852689\n",
      "1  30.286711  43.894998  1329.435094   917.284849  1926.770808\n",
      "2  35.847409  72.902198  2613.354893  1285.036716  5314.730477\n",
      "3  60.182599  86.308552  5194.273014  3621.945269  7449.166165\n",
      "4  79.032736  75.344376  5954.672216  6246.173368  5676.775061\n",
      "5  45.083277  56.316372  2538.926616  2032.501908  3171.533731\n",
      "6  61.106665  96.511426  5897.491326  3734.024451  9314.455326\n",
      "7  75.024746  46.554014  3492.703021  5628.712447  2167.276177\n",
      "8  76.098787  87.420570  6652.599288  5791.025338  7642.356010\n",
      "9  84.432820  43.533393  3675.647160  7128.901087  1895.156333\n"
     ]
    }
   ],
   "source": [
    "ex1 = training_samples[[\"ex1\"]]\n",
    "ex2 = training_samples[[\"ex2\"]]\n",
    "ex3 = ex1.mul(ex2.values)\n",
    "ex4 = ex1.mul(ex1.values)\n",
    "ex5 = ex2.mul(ex2.values)\n",
    "\n",
    "features = pd.concat([ex1,ex2,ex3,ex4,ex5], axis=1)\n",
    "features.columns = [\"x1\",\"x2\",\"x1_x2\",\"x1_2\",\"x2_2\"]\n",
    "\n",
    "labels = training_samples[[\"ac\"]]\n",
    "\n",
    "print(features.head(10))"
   ]
  },
  {
   "cell_type": "code",
   "execution_count": 53,
   "metadata": {},
   "outputs": [
    {
     "data": {
      "text/plain": [
       "LogisticRegression(C=1.0, class_weight=None, dual=False, fit_intercept=True,\n",
       "          intercept_scaling=1, max_iter=100, multi_class='ovr', n_jobs=1,\n",
       "          penalty='l2', random_state=None, solver='liblinear', tol=0.0001,\n",
       "          verbose=0, warm_start=False)"
      ]
     },
     "execution_count": 53,
     "metadata": {},
     "output_type": "execute_result"
    }
   ],
   "source": [
    "model = linear_model.LogisticRegression()\n",
    "model.fit(features, labels.values.ravel())"
   ]
  },
  {
   "cell_type": "code",
   "execution_count": 57,
   "metadata": {},
   "outputs": [],
   "source": [
    "test_samples = pd.read_csv(\"test-set.csv\",names=[\"ex1\",\"ex2\",\"ac\"])\n",
    "test_ex1 = test_samples[[\"ex1\"]]\n",
    "test_ex2 = test_samples[[\"ex2\"]]\n",
    "test_ex3 = test_ex1.mul(test_ex2.values)\n",
    "test_ex4 = test_ex1.mul(test_ex1.values)\n",
    "test_ex5 = test_ex2.mul(test_ex2.values)\n",
    "\n",
    "test_features = pd.concat([test_ex1,test_ex2,test_ex3,test_ex4,test_ex5], axis=1)\n",
    "test_features.columns = [\"x1\",\"x2\",\"x1_x2\",\"x1_2\",\"x2_2\"]\n",
    "\n",
    "expected_labels = test_samples[[\"ac\"]]\n",
    "\n",
    "predicted_labels = model.predict(test_features)"
   ]
  },
  {
   "cell_type": "code",
   "execution_count": 62,
   "metadata": {},
   "outputs": [
    {
     "name": "stdout",
     "output_type": "stream",
     "text": [
      "             precision    recall  f1-score   support\n",
      "\n",
      "   ACCEPTED       0.91      1.00      0.95        10\n",
      "   REJECTED       1.00      0.90      0.95        10\n",
      "\n",
      "avg / total       0.95      0.95      0.95        20\n",
      "\n",
      "SCORE : 0.95\n"
     ]
    }
   ],
   "source": [
    "from sklearn import metrics\n",
    "\n",
    "print(metrics.classification_report(expected_labels, predicted_labels, target_names = [\"ACCEPTED\", \"REJECTED\"]))\n",
    "print(\"SCORE : {0}\".format(metrics.accuracy_score(expected_labels, predicted_labels)))"
   ]
  },
  {
   "cell_type": "code",
   "execution_count": 74,
   "metadata": {},
   "outputs": [
    {
     "name": "stdout",
     "output_type": "stream",
     "text": [
      "         ex1        ex2  0\n",
      "0  35.623660  85.024693  0\n",
      "1  30.286711  80.894998  0\n",
      "2  40.847409  60.902198  0\n",
      "3  60.182599  40.308552  0\n",
      "4  50.032736  50.344376  0\n",
      "5  47.083277  63.316372  0\n",
      "6  99.106665  38.511426  0\n",
      "7  42.024746  56.554014  0\n",
      "8  50.098787  57.420570  0\n",
      "9  85.432820  40.533393  0\n"
     ]
    }
   ],
   "source": [
    "import matplotlib.pyplot as plt\n",
    "plt.style.use('ggplot')\n",
    "\n",
    "test_results = pd.concat([test_ex1, test_ex2, pd.DataFrame(predicted_labels)], axis=1)\n",
    "test_results.plot()"
   ]
  },
  {
   "cell_type": "code",
   "execution_count": null,
   "metadata": {
    "collapsed": true
   },
   "outputs": [],
   "source": []
  }
 ],
 "metadata": {
  "kernelspec": {
   "display_name": "Python 3",
   "language": "python",
   "name": "python3"
  },
  "language_info": {
   "codemirror_mode": {
    "name": "ipython",
    "version": 3
   },
   "file_extension": ".py",
   "mimetype": "text/x-python",
   "name": "python",
   "nbconvert_exporter": "python",
   "pygments_lexer": "ipython3",
   "version": "3.5.2"
  }
 },
 "nbformat": 4,
 "nbformat_minor": 2
}
